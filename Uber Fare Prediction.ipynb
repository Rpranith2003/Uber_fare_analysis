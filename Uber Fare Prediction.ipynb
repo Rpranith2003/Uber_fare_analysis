{
 "cells": [
  {
   "cell_type": "code",
   "execution_count": 1,
   "id": "f7529871",
   "metadata": {},
   "outputs": [],
   "source": [
    "#import the required libraries\n",
    "import pandas as pd\n",
    "import numpy as np"
   ]
  },
  {
   "cell_type": "markdown",
   "id": "2d413675",
   "metadata": {
    "papermill": {
     "duration": 0.013234,
     "end_time": "2023-05-20T16:54:08.052920",
     "exception": false,
     "start_time": "2023-05-20T16:54:08.039686",
     "status": "completed"
    },
    "tags": []
   },
   "source": [
    "# **Load the datasets**"
   ]
  },
  {
   "cell_type": "code",
   "execution_count": 2,
   "id": "d07080f0",
   "metadata": {
    "execution": {
     "iopub.execute_input": "2023-05-20T16:54:08.081655Z",
     "iopub.status.busy": "2023-05-20T16:54:08.081239Z",
     "iopub.status.idle": "2023-05-20T16:54:09.002182Z",
     "shell.execute_reply": "2023-05-20T16:54:09.000954Z"
    },
    "papermill": {
     "duration": 0.93864,
     "end_time": "2023-05-20T16:54:09.005091",
     "exception": false,
     "start_time": "2023-05-20T16:54:08.066451",
     "status": "completed"
    },
    "tags": []
   },
   "outputs": [
    {
     "data": {
      "text/html": [
       "<div>\n",
       "<style scoped>\n",
       "    .dataframe tbody tr th:only-of-type {\n",
       "        vertical-align: middle;\n",
       "    }\n",
       "\n",
       "    .dataframe tbody tr th {\n",
       "        vertical-align: top;\n",
       "    }\n",
       "\n",
       "    .dataframe thead th {\n",
       "        text-align: right;\n",
       "    }\n",
       "</style>\n",
       "<table border=\"1\" class=\"dataframe\">\n",
       "  <thead>\n",
       "    <tr style=\"text-align: right;\">\n",
       "      <th></th>\n",
       "      <th>fare_amount</th>\n",
       "      <th>pickup_datetime</th>\n",
       "      <th>pickup_longitude</th>\n",
       "      <th>pickup_latitude</th>\n",
       "      <th>dropoff_longitude</th>\n",
       "      <th>dropoff_latitude</th>\n",
       "      <th>passenger_count</th>\n",
       "    </tr>\n",
       "  </thead>\n",
       "  <tbody>\n",
       "    <tr>\n",
       "      <th>0</th>\n",
       "      <td>7.5</td>\n",
       "      <td>2015-05-07 19:52:06 UTC</td>\n",
       "      <td>-73.999817</td>\n",
       "      <td>40.738354</td>\n",
       "      <td>-73.999512</td>\n",
       "      <td>40.723217</td>\n",
       "      <td>1</td>\n",
       "    </tr>\n",
       "    <tr>\n",
       "      <th>1</th>\n",
       "      <td>7.7</td>\n",
       "      <td>2009-07-17 20:04:56 UTC</td>\n",
       "      <td>-73.994355</td>\n",
       "      <td>40.728225</td>\n",
       "      <td>-73.994710</td>\n",
       "      <td>40.750325</td>\n",
       "      <td>1</td>\n",
       "    </tr>\n",
       "    <tr>\n",
       "      <th>2</th>\n",
       "      <td>12.9</td>\n",
       "      <td>2009-08-24 21:45:00 UTC</td>\n",
       "      <td>-74.005043</td>\n",
       "      <td>40.740770</td>\n",
       "      <td>-73.962565</td>\n",
       "      <td>40.772647</td>\n",
       "      <td>1</td>\n",
       "    </tr>\n",
       "    <tr>\n",
       "      <th>3</th>\n",
       "      <td>5.3</td>\n",
       "      <td>2009-06-26 08:22:21 UTC</td>\n",
       "      <td>-73.976124</td>\n",
       "      <td>40.790844</td>\n",
       "      <td>-73.965316</td>\n",
       "      <td>40.803349</td>\n",
       "      <td>3</td>\n",
       "    </tr>\n",
       "    <tr>\n",
       "      <th>4</th>\n",
       "      <td>16.0</td>\n",
       "      <td>2014-08-28 17:47:00 UTC</td>\n",
       "      <td>-73.925023</td>\n",
       "      <td>40.744085</td>\n",
       "      <td>-73.973082</td>\n",
       "      <td>40.761247</td>\n",
       "      <td>5</td>\n",
       "    </tr>\n",
       "  </tbody>\n",
       "</table>\n",
       "</div>"
      ],
      "text/plain": [
       "   fare_amount          pickup_datetime  pickup_longitude  pickup_latitude  \\\n",
       "0          7.5  2015-05-07 19:52:06 UTC        -73.999817        40.738354   \n",
       "1          7.7  2009-07-17 20:04:56 UTC        -73.994355        40.728225   \n",
       "2         12.9  2009-08-24 21:45:00 UTC        -74.005043        40.740770   \n",
       "3          5.3  2009-06-26 08:22:21 UTC        -73.976124        40.790844   \n",
       "4         16.0  2014-08-28 17:47:00 UTC        -73.925023        40.744085   \n",
       "\n",
       "   dropoff_longitude  dropoff_latitude  passenger_count  \n",
       "0         -73.999512         40.723217                1  \n",
       "1         -73.994710         40.750325                1  \n",
       "2         -73.962565         40.772647                1  \n",
       "3         -73.965316         40.803349                3  \n",
       "4         -73.973082         40.761247                5  "
      ]
     },
     "execution_count": 2,
     "metadata": {},
     "output_type": "execute_result"
    }
   ],
   "source": [
    "#importing dataset\n",
    "df=pd.read_csv('uber.csv')\n",
    "df.head()"
   ]
  },
  {
   "cell_type": "markdown",
   "id": "8ff5ece8",
   "metadata": {
    "papermill": {
     "duration": 0.013578,
     "end_time": "2023-05-20T16:54:09.032610",
     "exception": false,
     "start_time": "2023-05-20T16:54:09.019032",
     "status": "completed"
    },
    "tags": []
   },
   "source": [
    "# **Describe the dataset**"
   ]
  },
  {
   "cell_type": "code",
   "execution_count": 3,
   "id": "bd753b17",
   "metadata": {
    "execution": {
     "iopub.execute_input": "2023-05-20T16:54:09.062719Z",
     "iopub.status.busy": "2023-05-20T16:54:09.062052Z",
     "iopub.status.idle": "2023-05-20T16:54:09.218001Z",
     "shell.execute_reply": "2023-05-20T16:54:09.216781Z"
    },
    "papermill": {
     "duration": 0.174142,
     "end_time": "2023-05-20T16:54:09.220655",
     "exception": false,
     "start_time": "2023-05-20T16:54:09.046513",
     "status": "completed"
    },
    "tags": []
   },
   "outputs": [
    {
     "name": "stdout",
     "output_type": "stream",
     "text": [
      "<class 'pandas.core.frame.DataFrame'>\n",
      "RangeIndex: 200000 entries, 0 to 199999\n",
      "Data columns (total 7 columns):\n",
      " #   Column             Non-Null Count   Dtype  \n",
      "---  ------             --------------   -----  \n",
      " 0   fare_amount        200000 non-null  float64\n",
      " 1   pickup_datetime    200000 non-null  object \n",
      " 2   pickup_longitude   200000 non-null  float64\n",
      " 3   pickup_latitude    200000 non-null  float64\n",
      " 4   dropoff_longitude  199999 non-null  float64\n",
      " 5   dropoff_latitude   199999 non-null  float64\n",
      " 6   passenger_count    200000 non-null  int64  \n",
      "dtypes: float64(5), int64(1), object(1)\n",
      "memory usage: 10.7+ MB\n"
     ]
    }
   ],
   "source": [
    "# understand the structure and content of a DataFrame.\n",
    "df.info()"
   ]
  },
  {
   "cell_type": "code",
   "execution_count": 4,
   "id": "5823d6c3",
   "metadata": {
    "execution": {
     "iopub.execute_input": "2023-05-20T16:54:09.251018Z",
     "iopub.status.busy": "2023-05-20T16:54:09.250516Z",
     "iopub.status.idle": "2023-05-20T16:54:09.351414Z",
     "shell.execute_reply": "2023-05-20T16:54:09.350212Z"
    },
    "papermill": {
     "duration": 0.119413,
     "end_time": "2023-05-20T16:54:09.354218",
     "exception": false,
     "start_time": "2023-05-20T16:54:09.234805",
     "status": "completed"
    },
    "tags": []
   },
   "outputs": [
    {
     "data": {
      "text/html": [
       "<div>\n",
       "<style scoped>\n",
       "    .dataframe tbody tr th:only-of-type {\n",
       "        vertical-align: middle;\n",
       "    }\n",
       "\n",
       "    .dataframe tbody tr th {\n",
       "        vertical-align: top;\n",
       "    }\n",
       "\n",
       "    .dataframe thead th {\n",
       "        text-align: right;\n",
       "    }\n",
       "</style>\n",
       "<table border=\"1\" class=\"dataframe\">\n",
       "  <thead>\n",
       "    <tr style=\"text-align: right;\">\n",
       "      <th></th>\n",
       "      <th>fare_amount</th>\n",
       "      <th>pickup_longitude</th>\n",
       "      <th>pickup_latitude</th>\n",
       "      <th>dropoff_longitude</th>\n",
       "      <th>dropoff_latitude</th>\n",
       "      <th>passenger_count</th>\n",
       "    </tr>\n",
       "  </thead>\n",
       "  <tbody>\n",
       "    <tr>\n",
       "      <th>count</th>\n",
       "      <td>200000.000000</td>\n",
       "      <td>200000.000000</td>\n",
       "      <td>200000.000000</td>\n",
       "      <td>199999.000000</td>\n",
       "      <td>199999.000000</td>\n",
       "      <td>200000.000000</td>\n",
       "    </tr>\n",
       "    <tr>\n",
       "      <th>mean</th>\n",
       "      <td>11.359955</td>\n",
       "      <td>-72.527638</td>\n",
       "      <td>39.935885</td>\n",
       "      <td>-72.525292</td>\n",
       "      <td>39.923890</td>\n",
       "      <td>1.684535</td>\n",
       "    </tr>\n",
       "    <tr>\n",
       "      <th>std</th>\n",
       "      <td>9.901776</td>\n",
       "      <td>11.437787</td>\n",
       "      <td>7.720539</td>\n",
       "      <td>13.117408</td>\n",
       "      <td>6.794829</td>\n",
       "      <td>1.385997</td>\n",
       "    </tr>\n",
       "    <tr>\n",
       "      <th>min</th>\n",
       "      <td>-52.000000</td>\n",
       "      <td>-1340.648410</td>\n",
       "      <td>-74.015515</td>\n",
       "      <td>-3356.666300</td>\n",
       "      <td>-881.985513</td>\n",
       "      <td>0.000000</td>\n",
       "    </tr>\n",
       "    <tr>\n",
       "      <th>25%</th>\n",
       "      <td>6.000000</td>\n",
       "      <td>-73.992065</td>\n",
       "      <td>40.734796</td>\n",
       "      <td>-73.991407</td>\n",
       "      <td>40.733823</td>\n",
       "      <td>1.000000</td>\n",
       "    </tr>\n",
       "    <tr>\n",
       "      <th>50%</th>\n",
       "      <td>8.500000</td>\n",
       "      <td>-73.981823</td>\n",
       "      <td>40.752592</td>\n",
       "      <td>-73.980093</td>\n",
       "      <td>40.753042</td>\n",
       "      <td>1.000000</td>\n",
       "    </tr>\n",
       "    <tr>\n",
       "      <th>75%</th>\n",
       "      <td>12.500000</td>\n",
       "      <td>-73.967153</td>\n",
       "      <td>40.767158</td>\n",
       "      <td>-73.963659</td>\n",
       "      <td>40.768001</td>\n",
       "      <td>2.000000</td>\n",
       "    </tr>\n",
       "    <tr>\n",
       "      <th>max</th>\n",
       "      <td>499.000000</td>\n",
       "      <td>57.418457</td>\n",
       "      <td>1644.421482</td>\n",
       "      <td>1153.572603</td>\n",
       "      <td>872.697628</td>\n",
       "      <td>208.000000</td>\n",
       "    </tr>\n",
       "  </tbody>\n",
       "</table>\n",
       "</div>"
      ],
      "text/plain": [
       "         fare_amount  pickup_longitude  pickup_latitude  dropoff_longitude  \\\n",
       "count  200000.000000     200000.000000    200000.000000      199999.000000   \n",
       "mean       11.359955        -72.527638        39.935885         -72.525292   \n",
       "std         9.901776         11.437787         7.720539          13.117408   \n",
       "min       -52.000000      -1340.648410       -74.015515       -3356.666300   \n",
       "25%         6.000000        -73.992065        40.734796         -73.991407   \n",
       "50%         8.500000        -73.981823        40.752592         -73.980093   \n",
       "75%        12.500000        -73.967153        40.767158         -73.963659   \n",
       "max       499.000000         57.418457      1644.421482        1153.572603   \n",
       "\n",
       "       dropoff_latitude  passenger_count  \n",
       "count     199999.000000    200000.000000  \n",
       "mean          39.923890         1.684535  \n",
       "std            6.794829         1.385997  \n",
       "min         -881.985513         0.000000  \n",
       "25%           40.733823         1.000000  \n",
       "50%           40.753042         1.000000  \n",
       "75%           40.768001         2.000000  \n",
       "max          872.697628       208.000000  "
      ]
     },
     "execution_count": 4,
     "metadata": {},
     "output_type": "execute_result"
    }
   ],
   "source": [
    "# gaining insights into the numerical characteristics of the DataFrame's columns.\n",
    "df.describe()"
   ]
  },
  {
   "cell_type": "markdown",
   "id": "48647130",
   "metadata": {
    "papermill": {
     "duration": 0.014209,
     "end_time": "2023-05-20T16:54:09.382889",
     "exception": false,
     "start_time": "2023-05-20T16:54:09.368680",
     "status": "completed"
    },
    "tags": []
   },
   "source": [
    "# **Data Preprocessing and Cleaning**\n",
    "> Handling missing values,if necessary, remove outliers, and converting data types as needed."
   ]
  },
  {
   "cell_type": "code",
   "execution_count": 5,
   "id": "da91d2f1",
   "metadata": {
    "execution": {
     "iopub.execute_input": "2023-05-20T16:54:09.413617Z",
     "iopub.status.busy": "2023-05-20T16:54:09.413191Z",
     "iopub.status.idle": "2023-05-20T16:54:09.546206Z",
     "shell.execute_reply": "2023-05-20T16:54:09.544872Z"
    },
    "papermill": {
     "duration": 0.151397,
     "end_time": "2023-05-20T16:54:09.548786",
     "exception": false,
     "start_time": "2023-05-20T16:54:09.397389",
     "status": "completed"
    },
    "tags": []
   },
   "outputs": [
    {
     "name": "stdout",
     "output_type": "stream",
     "text": [
      "There are 2 null values in dataset\n",
      "\n"
     ]
    }
   ],
   "source": [
    "# checking the null values\n",
    "var1 = df.isna().sum().sum()\n",
    "if var1 == 0:\n",
    "    print('There are no null values in dataset')\n",
    "else:\n",
    "    print(f'There are {var1} null values in dataset')\n",
    "    \n",
    "print()"
   ]
  },
  {
   "cell_type": "code",
   "execution_count": 6,
   "id": "1106d94f",
   "metadata": {
    "execution": {
     "iopub.execute_input": "2023-05-20T16:54:09.580119Z",
     "iopub.status.busy": "2023-05-20T16:54:09.579449Z",
     "iopub.status.idle": "2023-05-20T16:54:09.715802Z",
     "shell.execute_reply": "2023-05-20T16:54:09.714672Z"
    },
    "papermill": {
     "duration": 0.154823,
     "end_time": "2023-05-20T16:54:09.718287",
     "exception": false,
     "start_time": "2023-05-20T16:54:09.563464",
     "status": "completed"
    },
    "tags": []
   },
   "outputs": [
    {
     "data": {
      "text/plain": [
       "fare_amount          0\n",
       "pickup_datetime      0\n",
       "pickup_longitude     0\n",
       "pickup_latitude      0\n",
       "dropoff_longitude    1\n",
       "dropoff_latitude     1\n",
       "passenger_count      0\n",
       "dtype: int64"
      ]
     },
     "execution_count": 6,
     "metadata": {},
     "output_type": "execute_result"
    }
   ],
   "source": [
    "#cheching where is null value\n",
    "df.isnull().sum()"
   ]
  },
  {
   "cell_type": "code",
   "execution_count": 7,
   "id": "059341c6",
   "metadata": {
    "execution": {
     "iopub.execute_input": "2023-05-20T16:54:09.750003Z",
     "iopub.status.busy": "2023-05-20T16:54:09.748895Z",
     "iopub.status.idle": "2023-05-20T16:54:09.763692Z",
     "shell.execute_reply": "2023-05-20T16:54:09.762474Z"
    },
    "papermill": {
     "duration": 0.033681,
     "end_time": "2023-05-20T16:54:09.766496",
     "exception": false,
     "start_time": "2023-05-20T16:54:09.732815",
     "status": "completed"
    },
    "tags": []
   },
   "outputs": [],
   "source": [
    "# replace null value by mean and median value\n",
    "df['dropoff_latitude'].fillna(value=df['dropoff_latitude'].mean(),inplace = True)\n",
    "df['dropoff_longitude'].fillna(value=df['dropoff_longitude'].median(),inplace = True)\n"
   ]
  },
  {
   "cell_type": "code",
   "execution_count": 8,
   "id": "5b90fc0b",
   "metadata": {
    "execution": {
     "iopub.execute_input": "2023-05-20T16:54:09.838808Z",
     "iopub.status.busy": "2023-05-20T16:54:09.838406Z",
     "iopub.status.idle": "2023-05-20T16:54:41.617830Z",
     "shell.execute_reply": "2023-05-20T16:54:41.616626Z"
    },
    "papermill": {
     "duration": 31.811838,
     "end_time": "2023-05-20T16:54:41.634208",
     "exception": false,
     "start_time": "2023-05-20T16:54:09.822370",
     "status": "completed"
    },
    "tags": []
   },
   "outputs": [
    {
     "data": {
      "text/plain": [
       "fare_amount                      float64\n",
       "pickup_datetime      datetime64[ns, UTC]\n",
       "pickup_longitude                 float64\n",
       "pickup_latitude                  float64\n",
       "dropoff_longitude                float64\n",
       "dropoff_latitude                 float64\n",
       "passenger_count                    int64\n",
       "dtype: object"
      ]
     },
     "execution_count": 8,
     "metadata": {},
     "output_type": "execute_result"
    }
   ],
   "source": [
    "# change the Incorrect data type.\n",
    "df.pickup_datetime = pd.to_datetime(df.pickup_datetime)\n",
    "df.dtypes"
   ]
  },
  {
   "cell_type": "code",
   "execution_count": 9,
   "id": "537bb238",
   "metadata": {},
   "outputs": [
    {
     "data": {
      "text/html": [
       "<div>\n",
       "<style scoped>\n",
       "    .dataframe tbody tr th:only-of-type {\n",
       "        vertical-align: middle;\n",
       "    }\n",
       "\n",
       "    .dataframe tbody tr th {\n",
       "        vertical-align: top;\n",
       "    }\n",
       "\n",
       "    .dataframe thead th {\n",
       "        text-align: right;\n",
       "    }\n",
       "</style>\n",
       "<table border=\"1\" class=\"dataframe\">\n",
       "  <thead>\n",
       "    <tr style=\"text-align: right;\">\n",
       "      <th></th>\n",
       "      <th>fare_amount</th>\n",
       "      <th>pickup_datetime</th>\n",
       "      <th>pickup_longitude</th>\n",
       "      <th>pickup_latitude</th>\n",
       "      <th>dropoff_longitude</th>\n",
       "      <th>dropoff_latitude</th>\n",
       "      <th>passenger_count</th>\n",
       "    </tr>\n",
       "  </thead>\n",
       "  <tbody>\n",
       "    <tr>\n",
       "      <th>0</th>\n",
       "      <td>7.5</td>\n",
       "      <td>2015-05-07 19:52:06+00:00</td>\n",
       "      <td>-73.999817</td>\n",
       "      <td>40.738354</td>\n",
       "      <td>-73.999512</td>\n",
       "      <td>40.723217</td>\n",
       "      <td>1</td>\n",
       "    </tr>\n",
       "    <tr>\n",
       "      <th>1</th>\n",
       "      <td>7.7</td>\n",
       "      <td>2009-07-17 20:04:56+00:00</td>\n",
       "      <td>-73.994355</td>\n",
       "      <td>40.728225</td>\n",
       "      <td>-73.994710</td>\n",
       "      <td>40.750325</td>\n",
       "      <td>1</td>\n",
       "    </tr>\n",
       "    <tr>\n",
       "      <th>2</th>\n",
       "      <td>12.9</td>\n",
       "      <td>2009-08-24 21:45:00+00:00</td>\n",
       "      <td>-74.005043</td>\n",
       "      <td>40.740770</td>\n",
       "      <td>-73.962565</td>\n",
       "      <td>40.772647</td>\n",
       "      <td>1</td>\n",
       "    </tr>\n",
       "    <tr>\n",
       "      <th>3</th>\n",
       "      <td>5.3</td>\n",
       "      <td>2009-06-26 08:22:21+00:00</td>\n",
       "      <td>-73.976124</td>\n",
       "      <td>40.790844</td>\n",
       "      <td>-73.965316</td>\n",
       "      <td>40.803349</td>\n",
       "      <td>3</td>\n",
       "    </tr>\n",
       "    <tr>\n",
       "      <th>4</th>\n",
       "      <td>16.0</td>\n",
       "      <td>2014-08-28 17:47:00+00:00</td>\n",
       "      <td>-73.925023</td>\n",
       "      <td>40.744085</td>\n",
       "      <td>-73.973082</td>\n",
       "      <td>40.761247</td>\n",
       "      <td>5</td>\n",
       "    </tr>\n",
       "    <tr>\n",
       "      <th>...</th>\n",
       "      <td>...</td>\n",
       "      <td>...</td>\n",
       "      <td>...</td>\n",
       "      <td>...</td>\n",
       "      <td>...</td>\n",
       "      <td>...</td>\n",
       "      <td>...</td>\n",
       "    </tr>\n",
       "    <tr>\n",
       "      <th>199995</th>\n",
       "      <td>3.0</td>\n",
       "      <td>2012-10-28 10:49:00+00:00</td>\n",
       "      <td>-73.987042</td>\n",
       "      <td>40.739367</td>\n",
       "      <td>-73.986525</td>\n",
       "      <td>40.740297</td>\n",
       "      <td>1</td>\n",
       "    </tr>\n",
       "    <tr>\n",
       "      <th>199996</th>\n",
       "      <td>7.5</td>\n",
       "      <td>2014-03-14 01:09:00+00:00</td>\n",
       "      <td>-73.984722</td>\n",
       "      <td>40.736837</td>\n",
       "      <td>-74.006672</td>\n",
       "      <td>40.739620</td>\n",
       "      <td>1</td>\n",
       "    </tr>\n",
       "    <tr>\n",
       "      <th>199997</th>\n",
       "      <td>30.9</td>\n",
       "      <td>2009-06-29 00:42:00+00:00</td>\n",
       "      <td>-73.986017</td>\n",
       "      <td>40.756487</td>\n",
       "      <td>-73.858957</td>\n",
       "      <td>40.692588</td>\n",
       "      <td>2</td>\n",
       "    </tr>\n",
       "    <tr>\n",
       "      <th>199998</th>\n",
       "      <td>14.5</td>\n",
       "      <td>2015-05-20 14:56:25+00:00</td>\n",
       "      <td>-73.997124</td>\n",
       "      <td>40.725452</td>\n",
       "      <td>-73.983215</td>\n",
       "      <td>40.695416</td>\n",
       "      <td>1</td>\n",
       "    </tr>\n",
       "    <tr>\n",
       "      <th>199999</th>\n",
       "      <td>14.1</td>\n",
       "      <td>2010-05-15 04:08:00+00:00</td>\n",
       "      <td>-73.984395</td>\n",
       "      <td>40.720077</td>\n",
       "      <td>-73.985508</td>\n",
       "      <td>40.768793</td>\n",
       "      <td>1</td>\n",
       "    </tr>\n",
       "  </tbody>\n",
       "</table>\n",
       "<p>200000 rows × 7 columns</p>\n",
       "</div>"
      ],
      "text/plain": [
       "        fare_amount           pickup_datetime  pickup_longitude  \\\n",
       "0               7.5 2015-05-07 19:52:06+00:00        -73.999817   \n",
       "1               7.7 2009-07-17 20:04:56+00:00        -73.994355   \n",
       "2              12.9 2009-08-24 21:45:00+00:00        -74.005043   \n",
       "3               5.3 2009-06-26 08:22:21+00:00        -73.976124   \n",
       "4              16.0 2014-08-28 17:47:00+00:00        -73.925023   \n",
       "...             ...                       ...               ...   \n",
       "199995          3.0 2012-10-28 10:49:00+00:00        -73.987042   \n",
       "199996          7.5 2014-03-14 01:09:00+00:00        -73.984722   \n",
       "199997         30.9 2009-06-29 00:42:00+00:00        -73.986017   \n",
       "199998         14.5 2015-05-20 14:56:25+00:00        -73.997124   \n",
       "199999         14.1 2010-05-15 04:08:00+00:00        -73.984395   \n",
       "\n",
       "        pickup_latitude  dropoff_longitude  dropoff_latitude  passenger_count  \n",
       "0             40.738354         -73.999512         40.723217                1  \n",
       "1             40.728225         -73.994710         40.750325                1  \n",
       "2             40.740770         -73.962565         40.772647                1  \n",
       "3             40.790844         -73.965316         40.803349                3  \n",
       "4             40.744085         -73.973082         40.761247                5  \n",
       "...                 ...                ...               ...              ...  \n",
       "199995        40.739367         -73.986525         40.740297                1  \n",
       "199996        40.736837         -74.006672         40.739620                1  \n",
       "199997        40.756487         -73.858957         40.692588                2  \n",
       "199998        40.725452         -73.983215         40.695416                1  \n",
       "199999        40.720077         -73.985508         40.768793                1  \n",
       "\n",
       "[200000 rows x 7 columns]"
      ]
     },
     "execution_count": 9,
     "metadata": {},
     "output_type": "execute_result"
    }
   ],
   "source": [
    "df"
   ]
  },
  {
   "cell_type": "code",
   "execution_count": 10,
   "id": "54819d34",
   "metadata": {
    "execution": {
     "iopub.execute_input": "2023-05-20T16:54:41.665591Z",
     "iopub.status.busy": "2023-05-20T16:54:41.665130Z",
     "iopub.status.idle": "2023-05-20T16:54:41.809094Z",
     "shell.execute_reply": "2023-05-20T16:54:41.807881Z"
    },
    "papermill": {
     "duration": 0.162976,
     "end_time": "2023-05-20T16:54:41.811925",
     "exception": false,
     "start_time": "2023-05-20T16:54:41.648949",
     "status": "completed"
    },
    "tags": []
   },
   "outputs": [],
   "source": [
    "# we will extract time feature from the 'pickup_datetime' \n",
    "df= df.assign(hour = df.pickup_datetime.dt.hour,\n",
    "             day= df.pickup_datetime.dt.day,\n",
    "             month = df.pickup_datetime.dt.month,\n",
    "             year = df.pickup_datetime.dt.year,\n",
    "             dayofweek = df.pickup_datetime.dt.dayofweek)"
   ]
  },
  {
   "cell_type": "code",
   "execution_count": 11,
   "id": "9f80b8a4",
   "metadata": {},
   "outputs": [
    {
     "data": {
      "text/html": [
       "<div>\n",
       "<style scoped>\n",
       "    .dataframe tbody tr th:only-of-type {\n",
       "        vertical-align: middle;\n",
       "    }\n",
       "\n",
       "    .dataframe tbody tr th {\n",
       "        vertical-align: top;\n",
       "    }\n",
       "\n",
       "    .dataframe thead th {\n",
       "        text-align: right;\n",
       "    }\n",
       "</style>\n",
       "<table border=\"1\" class=\"dataframe\">\n",
       "  <thead>\n",
       "    <tr style=\"text-align: right;\">\n",
       "      <th></th>\n",
       "      <th>fare_amount</th>\n",
       "      <th>pickup_datetime</th>\n",
       "      <th>pickup_longitude</th>\n",
       "      <th>pickup_latitude</th>\n",
       "      <th>dropoff_longitude</th>\n",
       "      <th>dropoff_latitude</th>\n",
       "      <th>passenger_count</th>\n",
       "      <th>hour</th>\n",
       "      <th>day</th>\n",
       "      <th>month</th>\n",
       "      <th>year</th>\n",
       "      <th>dayofweek</th>\n",
       "    </tr>\n",
       "  </thead>\n",
       "  <tbody>\n",
       "    <tr>\n",
       "      <th>0</th>\n",
       "      <td>7.5</td>\n",
       "      <td>2015-05-07 19:52:06+00:00</td>\n",
       "      <td>-73.999817</td>\n",
       "      <td>40.738354</td>\n",
       "      <td>-73.999512</td>\n",
       "      <td>40.723217</td>\n",
       "      <td>1</td>\n",
       "      <td>19</td>\n",
       "      <td>7</td>\n",
       "      <td>5</td>\n",
       "      <td>2015</td>\n",
       "      <td>3</td>\n",
       "    </tr>\n",
       "    <tr>\n",
       "      <th>1</th>\n",
       "      <td>7.7</td>\n",
       "      <td>2009-07-17 20:04:56+00:00</td>\n",
       "      <td>-73.994355</td>\n",
       "      <td>40.728225</td>\n",
       "      <td>-73.994710</td>\n",
       "      <td>40.750325</td>\n",
       "      <td>1</td>\n",
       "      <td>20</td>\n",
       "      <td>17</td>\n",
       "      <td>7</td>\n",
       "      <td>2009</td>\n",
       "      <td>4</td>\n",
       "    </tr>\n",
       "    <tr>\n",
       "      <th>2</th>\n",
       "      <td>12.9</td>\n",
       "      <td>2009-08-24 21:45:00+00:00</td>\n",
       "      <td>-74.005043</td>\n",
       "      <td>40.740770</td>\n",
       "      <td>-73.962565</td>\n",
       "      <td>40.772647</td>\n",
       "      <td>1</td>\n",
       "      <td>21</td>\n",
       "      <td>24</td>\n",
       "      <td>8</td>\n",
       "      <td>2009</td>\n",
       "      <td>0</td>\n",
       "    </tr>\n",
       "    <tr>\n",
       "      <th>3</th>\n",
       "      <td>5.3</td>\n",
       "      <td>2009-06-26 08:22:21+00:00</td>\n",
       "      <td>-73.976124</td>\n",
       "      <td>40.790844</td>\n",
       "      <td>-73.965316</td>\n",
       "      <td>40.803349</td>\n",
       "      <td>3</td>\n",
       "      <td>8</td>\n",
       "      <td>26</td>\n",
       "      <td>6</td>\n",
       "      <td>2009</td>\n",
       "      <td>4</td>\n",
       "    </tr>\n",
       "    <tr>\n",
       "      <th>4</th>\n",
       "      <td>16.0</td>\n",
       "      <td>2014-08-28 17:47:00+00:00</td>\n",
       "      <td>-73.925023</td>\n",
       "      <td>40.744085</td>\n",
       "      <td>-73.973082</td>\n",
       "      <td>40.761247</td>\n",
       "      <td>5</td>\n",
       "      <td>17</td>\n",
       "      <td>28</td>\n",
       "      <td>8</td>\n",
       "      <td>2014</td>\n",
       "      <td>3</td>\n",
       "    </tr>\n",
       "    <tr>\n",
       "      <th>...</th>\n",
       "      <td>...</td>\n",
       "      <td>...</td>\n",
       "      <td>...</td>\n",
       "      <td>...</td>\n",
       "      <td>...</td>\n",
       "      <td>...</td>\n",
       "      <td>...</td>\n",
       "      <td>...</td>\n",
       "      <td>...</td>\n",
       "      <td>...</td>\n",
       "      <td>...</td>\n",
       "      <td>...</td>\n",
       "    </tr>\n",
       "    <tr>\n",
       "      <th>199995</th>\n",
       "      <td>3.0</td>\n",
       "      <td>2012-10-28 10:49:00+00:00</td>\n",
       "      <td>-73.987042</td>\n",
       "      <td>40.739367</td>\n",
       "      <td>-73.986525</td>\n",
       "      <td>40.740297</td>\n",
       "      <td>1</td>\n",
       "      <td>10</td>\n",
       "      <td>28</td>\n",
       "      <td>10</td>\n",
       "      <td>2012</td>\n",
       "      <td>6</td>\n",
       "    </tr>\n",
       "    <tr>\n",
       "      <th>199996</th>\n",
       "      <td>7.5</td>\n",
       "      <td>2014-03-14 01:09:00+00:00</td>\n",
       "      <td>-73.984722</td>\n",
       "      <td>40.736837</td>\n",
       "      <td>-74.006672</td>\n",
       "      <td>40.739620</td>\n",
       "      <td>1</td>\n",
       "      <td>1</td>\n",
       "      <td>14</td>\n",
       "      <td>3</td>\n",
       "      <td>2014</td>\n",
       "      <td>4</td>\n",
       "    </tr>\n",
       "    <tr>\n",
       "      <th>199997</th>\n",
       "      <td>30.9</td>\n",
       "      <td>2009-06-29 00:42:00+00:00</td>\n",
       "      <td>-73.986017</td>\n",
       "      <td>40.756487</td>\n",
       "      <td>-73.858957</td>\n",
       "      <td>40.692588</td>\n",
       "      <td>2</td>\n",
       "      <td>0</td>\n",
       "      <td>29</td>\n",
       "      <td>6</td>\n",
       "      <td>2009</td>\n",
       "      <td>0</td>\n",
       "    </tr>\n",
       "    <tr>\n",
       "      <th>199998</th>\n",
       "      <td>14.5</td>\n",
       "      <td>2015-05-20 14:56:25+00:00</td>\n",
       "      <td>-73.997124</td>\n",
       "      <td>40.725452</td>\n",
       "      <td>-73.983215</td>\n",
       "      <td>40.695416</td>\n",
       "      <td>1</td>\n",
       "      <td>14</td>\n",
       "      <td>20</td>\n",
       "      <td>5</td>\n",
       "      <td>2015</td>\n",
       "      <td>2</td>\n",
       "    </tr>\n",
       "    <tr>\n",
       "      <th>199999</th>\n",
       "      <td>14.1</td>\n",
       "      <td>2010-05-15 04:08:00+00:00</td>\n",
       "      <td>-73.984395</td>\n",
       "      <td>40.720077</td>\n",
       "      <td>-73.985508</td>\n",
       "      <td>40.768793</td>\n",
       "      <td>1</td>\n",
       "      <td>4</td>\n",
       "      <td>15</td>\n",
       "      <td>5</td>\n",
       "      <td>2010</td>\n",
       "      <td>5</td>\n",
       "    </tr>\n",
       "  </tbody>\n",
       "</table>\n",
       "<p>200000 rows × 12 columns</p>\n",
       "</div>"
      ],
      "text/plain": [
       "        fare_amount           pickup_datetime  pickup_longitude  \\\n",
       "0               7.5 2015-05-07 19:52:06+00:00        -73.999817   \n",
       "1               7.7 2009-07-17 20:04:56+00:00        -73.994355   \n",
       "2              12.9 2009-08-24 21:45:00+00:00        -74.005043   \n",
       "3               5.3 2009-06-26 08:22:21+00:00        -73.976124   \n",
       "4              16.0 2014-08-28 17:47:00+00:00        -73.925023   \n",
       "...             ...                       ...               ...   \n",
       "199995          3.0 2012-10-28 10:49:00+00:00        -73.987042   \n",
       "199996          7.5 2014-03-14 01:09:00+00:00        -73.984722   \n",
       "199997         30.9 2009-06-29 00:42:00+00:00        -73.986017   \n",
       "199998         14.5 2015-05-20 14:56:25+00:00        -73.997124   \n",
       "199999         14.1 2010-05-15 04:08:00+00:00        -73.984395   \n",
       "\n",
       "        pickup_latitude  dropoff_longitude  dropoff_latitude  passenger_count  \\\n",
       "0             40.738354         -73.999512         40.723217                1   \n",
       "1             40.728225         -73.994710         40.750325                1   \n",
       "2             40.740770         -73.962565         40.772647                1   \n",
       "3             40.790844         -73.965316         40.803349                3   \n",
       "4             40.744085         -73.973082         40.761247                5   \n",
       "...                 ...                ...               ...              ...   \n",
       "199995        40.739367         -73.986525         40.740297                1   \n",
       "199996        40.736837         -74.006672         40.739620                1   \n",
       "199997        40.756487         -73.858957         40.692588                2   \n",
       "199998        40.725452         -73.983215         40.695416                1   \n",
       "199999        40.720077         -73.985508         40.768793                1   \n",
       "\n",
       "        hour  day  month  year  dayofweek  \n",
       "0         19    7      5  2015          3  \n",
       "1         20   17      7  2009          4  \n",
       "2         21   24      8  2009          0  \n",
       "3          8   26      6  2009          4  \n",
       "4         17   28      8  2014          3  \n",
       "...      ...  ...    ...   ...        ...  \n",
       "199995    10   28     10  2012          6  \n",
       "199996     1   14      3  2014          4  \n",
       "199997     0   29      6  2009          0  \n",
       "199998    14   20      5  2015          2  \n",
       "199999     4   15      5  2010          5  \n",
       "\n",
       "[200000 rows x 12 columns]"
      ]
     },
     "execution_count": 11,
     "metadata": {},
     "output_type": "execute_result"
    }
   ],
   "source": [
    "df"
   ]
  },
  {
   "cell_type": "markdown",
   "id": "dd5f24cf",
   "metadata": {
    "papermill": {
     "duration": 0.0147,
     "end_time": "2023-05-20T16:54:41.841906",
     "exception": false,
     "start_time": "2023-05-20T16:54:41.827206",
     "status": "completed"
    },
    "tags": []
   },
   "source": [
    "# **Heversine formula**\n",
    "> hav(θ) = sin**2(θ/2).\n",
    "\n",
    "A mathematical equation used to calculate the distance between two points on a sphere, given their latitude and longitude coordinates. It considers the curvature of the Earth and is commonly used in navigation and geographical calculations."
   ]
  },
  {
   "cell_type": "code",
   "execution_count": 12,
   "id": "6f5f3855",
   "metadata": {
    "execution": {
     "iopub.execute_input": "2023-05-20T16:54:41.873490Z",
     "iopub.status.busy": "2023-05-20T16:54:41.873093Z",
     "iopub.status.idle": "2023-05-20T16:54:41.881334Z",
     "shell.execute_reply": "2023-05-20T16:54:41.880064Z"
    },
    "papermill": {
     "duration": 0.02703,
     "end_time": "2023-05-20T16:54:41.883739",
     "exception": false,
     "start_time": "2023-05-20T16:54:41.856709",
     "status": "completed"
    },
    "tags": []
   },
   "outputs": [],
   "source": [
    "from math import *\n",
    "# function to calculate the travel distance from the longitudes and latitudes\n",
    "def distance_transform(longitude1, latitude1, longitude2, latitude2):\n",
    "    travel_dist = []\n",
    "    \n",
    "    for pos in range(len(longitude1)):\n",
    "        long1,lati1,long2,lati2 = map(radians,[longitude1[pos],latitude1[pos],longitude2[pos],latitude2[pos]])\n",
    "        dist_long = long2 - long1\n",
    "        dist_lati = lati2 - lati1\n",
    "        a = sin(dist_lati/2)**2 + cos(lati1) * cos(lati2) * sin(dist_long/2)**2\n",
    "        c = 2 * asin(sqrt(a))*6371\n",
    "        travel_dist.append(c)\n",
    "       \n",
    "    return travel_dist"
   ]
  },
  {
   "cell_type": "code",
   "execution_count": 13,
   "id": "599d5f36",
   "metadata": {
    "execution": {
     "iopub.execute_input": "2023-05-20T16:54:41.915653Z",
     "iopub.status.busy": "2023-05-20T16:54:41.915263Z",
     "iopub.status.idle": "2023-05-20T16:54:42.675819Z",
     "shell.execute_reply": "2023-05-20T16:54:42.674638Z"
    },
    "papermill": {
     "duration": 0.779822,
     "end_time": "2023-05-20T16:54:42.678434",
     "exception": false,
     "start_time": "2023-05-20T16:54:41.898612",
     "status": "completed"
    },
    "tags": []
   },
   "outputs": [],
   "source": [
    "# calculates the travel distance in kilometers between pickup and dropoff locations using the Haversine formula and assigns the result to a new column 'dist_travel_km' in the DataFrame.\n",
    "df['dist_travel_km'] = distance_transform(df['pickup_longitude'].to_numpy(),\n",
    "                                                df['pickup_latitude'].to_numpy(),\n",
    "                                                df['dropoff_longitude'].to_numpy(),\n",
    "                                                df['dropoff_latitude'].to_numpy()\n",
    "                                              )"
   ]
  },
  {
   "cell_type": "code",
   "execution_count": 14,
   "id": "d26e9f6c",
   "metadata": {
    "execution": {
     "iopub.execute_input": "2023-05-20T16:54:42.710209Z",
     "iopub.status.busy": "2023-05-20T16:54:42.709804Z",
     "iopub.status.idle": "2023-05-20T16:54:42.731723Z",
     "shell.execute_reply": "2023-05-20T16:54:42.730532Z"
    },
    "papermill": {
     "duration": 0.040824,
     "end_time": "2023-05-20T16:54:42.734276",
     "exception": false,
     "start_time": "2023-05-20T16:54:42.693452",
     "status": "completed"
    },
    "tags": []
   },
   "outputs": [
    {
     "data": {
      "text/html": [
       "<div>\n",
       "<style scoped>\n",
       "    .dataframe tbody tr th:only-of-type {\n",
       "        vertical-align: middle;\n",
       "    }\n",
       "\n",
       "    .dataframe tbody tr th {\n",
       "        vertical-align: top;\n",
       "    }\n",
       "\n",
       "    .dataframe thead th {\n",
       "        text-align: right;\n",
       "    }\n",
       "</style>\n",
       "<table border=\"1\" class=\"dataframe\">\n",
       "  <thead>\n",
       "    <tr style=\"text-align: right;\">\n",
       "      <th></th>\n",
       "      <th>fare_amount</th>\n",
       "      <th>pickup_datetime</th>\n",
       "      <th>pickup_longitude</th>\n",
       "      <th>pickup_latitude</th>\n",
       "      <th>dropoff_longitude</th>\n",
       "      <th>dropoff_latitude</th>\n",
       "      <th>passenger_count</th>\n",
       "      <th>hour</th>\n",
       "      <th>day</th>\n",
       "      <th>month</th>\n",
       "      <th>year</th>\n",
       "      <th>dayofweek</th>\n",
       "      <th>dist_travel_km</th>\n",
       "    </tr>\n",
       "  </thead>\n",
       "  <tbody>\n",
       "    <tr>\n",
       "      <th>0</th>\n",
       "      <td>7.5</td>\n",
       "      <td>2015-05-07 19:52:06+00:00</td>\n",
       "      <td>-73.999817</td>\n",
       "      <td>40.738354</td>\n",
       "      <td>-73.999512</td>\n",
       "      <td>40.723217</td>\n",
       "      <td>1</td>\n",
       "      <td>19</td>\n",
       "      <td>7</td>\n",
       "      <td>5</td>\n",
       "      <td>2015</td>\n",
       "      <td>3</td>\n",
       "      <td>1.683323</td>\n",
       "    </tr>\n",
       "    <tr>\n",
       "      <th>1</th>\n",
       "      <td>7.7</td>\n",
       "      <td>2009-07-17 20:04:56+00:00</td>\n",
       "      <td>-73.994355</td>\n",
       "      <td>40.728225</td>\n",
       "      <td>-73.994710</td>\n",
       "      <td>40.750325</td>\n",
       "      <td>1</td>\n",
       "      <td>20</td>\n",
       "      <td>17</td>\n",
       "      <td>7</td>\n",
       "      <td>2009</td>\n",
       "      <td>4</td>\n",
       "      <td>2.457590</td>\n",
       "    </tr>\n",
       "    <tr>\n",
       "      <th>2</th>\n",
       "      <td>12.9</td>\n",
       "      <td>2009-08-24 21:45:00+00:00</td>\n",
       "      <td>-74.005043</td>\n",
       "      <td>40.740770</td>\n",
       "      <td>-73.962565</td>\n",
       "      <td>40.772647</td>\n",
       "      <td>1</td>\n",
       "      <td>21</td>\n",
       "      <td>24</td>\n",
       "      <td>8</td>\n",
       "      <td>2009</td>\n",
       "      <td>0</td>\n",
       "      <td>5.036377</td>\n",
       "    </tr>\n",
       "    <tr>\n",
       "      <th>3</th>\n",
       "      <td>5.3</td>\n",
       "      <td>2009-06-26 08:22:21+00:00</td>\n",
       "      <td>-73.976124</td>\n",
       "      <td>40.790844</td>\n",
       "      <td>-73.965316</td>\n",
       "      <td>40.803349</td>\n",
       "      <td>3</td>\n",
       "      <td>8</td>\n",
       "      <td>26</td>\n",
       "      <td>6</td>\n",
       "      <td>2009</td>\n",
       "      <td>4</td>\n",
       "      <td>1.661683</td>\n",
       "    </tr>\n",
       "    <tr>\n",
       "      <th>4</th>\n",
       "      <td>16.0</td>\n",
       "      <td>2014-08-28 17:47:00+00:00</td>\n",
       "      <td>-73.925023</td>\n",
       "      <td>40.744085</td>\n",
       "      <td>-73.973082</td>\n",
       "      <td>40.761247</td>\n",
       "      <td>5</td>\n",
       "      <td>17</td>\n",
       "      <td>28</td>\n",
       "      <td>8</td>\n",
       "      <td>2014</td>\n",
       "      <td>3</td>\n",
       "      <td>4.475450</td>\n",
       "    </tr>\n",
       "  </tbody>\n",
       "</table>\n",
       "</div>"
      ],
      "text/plain": [
       "   fare_amount           pickup_datetime  pickup_longitude  pickup_latitude  \\\n",
       "0          7.5 2015-05-07 19:52:06+00:00        -73.999817        40.738354   \n",
       "1          7.7 2009-07-17 20:04:56+00:00        -73.994355        40.728225   \n",
       "2         12.9 2009-08-24 21:45:00+00:00        -74.005043        40.740770   \n",
       "3          5.3 2009-06-26 08:22:21+00:00        -73.976124        40.790844   \n",
       "4         16.0 2014-08-28 17:47:00+00:00        -73.925023        40.744085   \n",
       "\n",
       "   dropoff_longitude  dropoff_latitude  passenger_count  hour  day  month  \\\n",
       "0         -73.999512         40.723217                1    19    7      5   \n",
       "1         -73.994710         40.750325                1    20   17      7   \n",
       "2         -73.962565         40.772647                1    21   24      8   \n",
       "3         -73.965316         40.803349                3     8   26      6   \n",
       "4         -73.973082         40.761247                5    17   28      8   \n",
       "\n",
       "   year  dayofweek  dist_travel_km  \n",
       "0  2015          3        1.683323  \n",
       "1  2009          4        2.457590  \n",
       "2  2009          0        5.036377  \n",
       "3  2009          4        1.661683  \n",
       "4  2014          3        4.475450  "
      ]
     },
     "execution_count": 14,
     "metadata": {},
     "output_type": "execute_result"
    }
   ],
   "source": [
    "#check the dataset\n",
    "df.head()"
   ]
  },
  {
   "cell_type": "code",
   "execution_count": 15,
   "id": "1767ef66",
   "metadata": {
    "execution": {
     "iopub.execute_input": "2023-05-20T16:54:42.767457Z",
     "iopub.status.busy": "2023-05-20T16:54:42.767042Z",
     "iopub.status.idle": "2023-05-20T16:54:42.791133Z",
     "shell.execute_reply": "2023-05-20T16:54:42.789884Z"
    },
    "papermill": {
     "duration": 0.04353,
     "end_time": "2023-05-20T16:54:42.793714",
     "exception": false,
     "start_time": "2023-05-20T16:54:42.750184",
     "status": "completed"
    },
    "tags": []
   },
   "outputs": [],
   "source": [
    "# drop the column  'key' ,'Unnamed: 0' and 'pickup_daetime'\n",
    "df = df.drop(['pickup_datetime'],axis=1)"
   ]
  },
  {
   "cell_type": "code",
   "execution_count": 16,
   "id": "3ed5f23d",
   "metadata": {
    "execution": {
     "iopub.execute_input": "2023-05-20T16:54:42.826211Z",
     "iopub.status.busy": "2023-05-20T16:54:42.825549Z",
     "iopub.status.idle": "2023-05-20T16:54:42.843417Z",
     "shell.execute_reply": "2023-05-20T16:54:42.842202Z"
    },
    "papermill": {
     "duration": 0.036534,
     "end_time": "2023-05-20T16:54:42.845597",
     "exception": false,
     "start_time": "2023-05-20T16:54:42.809063",
     "status": "completed"
    },
    "tags": []
   },
   "outputs": [
    {
     "data": {
      "text/html": [
       "<div>\n",
       "<style scoped>\n",
       "    .dataframe tbody tr th:only-of-type {\n",
       "        vertical-align: middle;\n",
       "    }\n",
       "\n",
       "    .dataframe tbody tr th {\n",
       "        vertical-align: top;\n",
       "    }\n",
       "\n",
       "    .dataframe thead th {\n",
       "        text-align: right;\n",
       "    }\n",
       "</style>\n",
       "<table border=\"1\" class=\"dataframe\">\n",
       "  <thead>\n",
       "    <tr style=\"text-align: right;\">\n",
       "      <th></th>\n",
       "      <th>fare_amount</th>\n",
       "      <th>pickup_longitude</th>\n",
       "      <th>pickup_latitude</th>\n",
       "      <th>dropoff_longitude</th>\n",
       "      <th>dropoff_latitude</th>\n",
       "      <th>passenger_count</th>\n",
       "      <th>hour</th>\n",
       "      <th>day</th>\n",
       "      <th>month</th>\n",
       "      <th>year</th>\n",
       "      <th>dayofweek</th>\n",
       "      <th>dist_travel_km</th>\n",
       "    </tr>\n",
       "  </thead>\n",
       "  <tbody>\n",
       "    <tr>\n",
       "      <th>0</th>\n",
       "      <td>7.5</td>\n",
       "      <td>-73.999817</td>\n",
       "      <td>40.738354</td>\n",
       "      <td>-73.999512</td>\n",
       "      <td>40.723217</td>\n",
       "      <td>1</td>\n",
       "      <td>19</td>\n",
       "      <td>7</td>\n",
       "      <td>5</td>\n",
       "      <td>2015</td>\n",
       "      <td>3</td>\n",
       "      <td>1.683323</td>\n",
       "    </tr>\n",
       "    <tr>\n",
       "      <th>1</th>\n",
       "      <td>7.7</td>\n",
       "      <td>-73.994355</td>\n",
       "      <td>40.728225</td>\n",
       "      <td>-73.994710</td>\n",
       "      <td>40.750325</td>\n",
       "      <td>1</td>\n",
       "      <td>20</td>\n",
       "      <td>17</td>\n",
       "      <td>7</td>\n",
       "      <td>2009</td>\n",
       "      <td>4</td>\n",
       "      <td>2.457590</td>\n",
       "    </tr>\n",
       "    <tr>\n",
       "      <th>2</th>\n",
       "      <td>12.9</td>\n",
       "      <td>-74.005043</td>\n",
       "      <td>40.740770</td>\n",
       "      <td>-73.962565</td>\n",
       "      <td>40.772647</td>\n",
       "      <td>1</td>\n",
       "      <td>21</td>\n",
       "      <td>24</td>\n",
       "      <td>8</td>\n",
       "      <td>2009</td>\n",
       "      <td>0</td>\n",
       "      <td>5.036377</td>\n",
       "    </tr>\n",
       "    <tr>\n",
       "      <th>3</th>\n",
       "      <td>5.3</td>\n",
       "      <td>-73.976124</td>\n",
       "      <td>40.790844</td>\n",
       "      <td>-73.965316</td>\n",
       "      <td>40.803349</td>\n",
       "      <td>3</td>\n",
       "      <td>8</td>\n",
       "      <td>26</td>\n",
       "      <td>6</td>\n",
       "      <td>2009</td>\n",
       "      <td>4</td>\n",
       "      <td>1.661683</td>\n",
       "    </tr>\n",
       "    <tr>\n",
       "      <th>4</th>\n",
       "      <td>16.0</td>\n",
       "      <td>-73.925023</td>\n",
       "      <td>40.744085</td>\n",
       "      <td>-73.973082</td>\n",
       "      <td>40.761247</td>\n",
       "      <td>5</td>\n",
       "      <td>17</td>\n",
       "      <td>28</td>\n",
       "      <td>8</td>\n",
       "      <td>2014</td>\n",
       "      <td>3</td>\n",
       "      <td>4.475450</td>\n",
       "    </tr>\n",
       "  </tbody>\n",
       "</table>\n",
       "</div>"
      ],
      "text/plain": [
       "   fare_amount  pickup_longitude  pickup_latitude  dropoff_longitude  \\\n",
       "0          7.5        -73.999817        40.738354         -73.999512   \n",
       "1          7.7        -73.994355        40.728225         -73.994710   \n",
       "2         12.9        -74.005043        40.740770         -73.962565   \n",
       "3          5.3        -73.976124        40.790844         -73.965316   \n",
       "4         16.0        -73.925023        40.744085         -73.973082   \n",
       "\n",
       "   dropoff_latitude  passenger_count  hour  day  month  year  dayofweek  \\\n",
       "0         40.723217                1    19    7      5  2015          3   \n",
       "1         40.750325                1    20   17      7  2009          4   \n",
       "2         40.772647                1    21   24      8  2009          0   \n",
       "3         40.803349                3     8   26      6  2009          4   \n",
       "4         40.761247                5    17   28      8  2014          3   \n",
       "\n",
       "   dist_travel_km  \n",
       "0        1.683323  \n",
       "1        2.457590  \n",
       "2        5.036377  \n",
       "3        1.661683  \n",
       "4        4.475450  "
      ]
     },
     "execution_count": 16,
     "metadata": {},
     "output_type": "execute_result"
    }
   ],
   "source": [
    "df.head()"
   ]
  },
  {
   "cell_type": "markdown",
   "id": "990b449a",
   "metadata": {},
   "source": [
    "### Saving the data to csv file"
   ]
  },
  {
   "cell_type": "code",
   "execution_count": 17,
   "id": "11535677",
   "metadata": {},
   "outputs": [],
   "source": [
    "df.to_csv('prediction.csv')"
   ]
  },
  {
   "cell_type": "code",
   "execution_count": 18,
   "id": "288cd564",
   "metadata": {
    "execution": {
     "iopub.execute_input": "2023-05-20T16:54:43.082405Z",
     "iopub.status.busy": "2023-05-20T16:54:43.081899Z",
     "iopub.status.idle": "2023-05-20T16:54:43.089819Z",
     "shell.execute_reply": "2023-05-20T16:54:43.088926Z"
    },
    "papermill": {
     "duration": 0.027553,
     "end_time": "2023-05-20T16:54:43.091998",
     "exception": false,
     "start_time": "2023-05-20T16:54:43.064445",
     "status": "completed"
    },
    "tags": []
   },
   "outputs": [
    {
     "data": {
      "text/plain": [
       "-52.0"
      ]
     },
     "execution_count": 18,
     "metadata": {},
     "output_type": "execute_result"
    }
   ],
   "source": [
    "# retrieves the minimum value of the 'fare_amount' column in the DataFrame, indicating the lowest recorded fare amount in the dataset\n",
    "df.fare_amount.min()"
   ]
  },
  {
   "cell_type": "markdown",
   "id": "178ff079",
   "metadata": {
    "papermill": {
     "duration": 0.015684,
     "end_time": "2023-05-20T16:54:43.123966",
     "exception": false,
     "start_time": "2023-05-20T16:54:43.108282",
     "status": "completed"
    },
    "tags": []
   },
   "source": [
    "## Outliers\n",
    "> Outliers are data points that significantly deviate from the overall pattern or distribution of the dataset. They can be exceptionally high or low values that may distort statistical analysis or model performance, and they are important to identify and handle appropriately to avoid biased results or skewed interpretations of the data."
   ]
  },
  {
   "cell_type": "code",
   "execution_count": 19,
   "id": "f34767df",
   "metadata": {
    "execution": {
     "iopub.execute_input": "2023-05-20T16:54:43.158058Z",
     "iopub.status.busy": "2023-05-20T16:54:43.157610Z",
     "iopub.status.idle": "2023-05-20T16:54:43.162756Z",
     "shell.execute_reply": "2023-05-20T16:54:43.161519Z"
    },
    "papermill": {
     "duration": 0.025024,
     "end_time": "2023-05-20T16:54:43.165156",
     "exception": false,
     "start_time": "2023-05-20T16:54:43.140132",
     "status": "completed"
    },
    "tags": []
   },
   "outputs": [],
   "source": [
    "import matplotlib.pyplot as plt"
   ]
  },
  {
   "cell_type": "markdown",
   "id": "140aa20a",
   "metadata": {
    "papermill": {
     "duration": 0.019536,
     "end_time": "2023-05-20T16:54:46.717149",
     "exception": false,
     "start_time": "2023-05-20T16:54:46.697613",
     "status": "completed"
    },
    "tags": []
   },
   "source": [
    "# Exploratory data analysis-EDA\n",
    "\n",
    "## Correlation\n",
    "Quantifies the relationship between two variables. It indicates the degree to which the variables tend to change together, ranging from -1 (strong negative correlation) to 1 (strong positive correlation), with 0 indicating no linear relationship."
   ]
  },
  {
   "cell_type": "code",
   "execution_count": 20,
   "id": "8c7f9d05",
   "metadata": {
    "execution": {
     "iopub.execute_input": "2023-05-20T16:54:46.756844Z",
     "iopub.status.busy": "2023-05-20T16:54:46.756392Z",
     "iopub.status.idle": "2023-05-20T16:54:46.890690Z",
     "shell.execute_reply": "2023-05-20T16:54:46.889451Z"
    },
    "papermill": {
     "duration": 0.157495,
     "end_time": "2023-05-20T16:54:46.893502",
     "exception": false,
     "start_time": "2023-05-20T16:54:46.736007",
     "status": "completed"
    },
    "tags": []
   },
   "outputs": [
    {
     "data": {
      "text/html": [
       "<div>\n",
       "<style scoped>\n",
       "    .dataframe tbody tr th:only-of-type {\n",
       "        vertical-align: middle;\n",
       "    }\n",
       "\n",
       "    .dataframe tbody tr th {\n",
       "        vertical-align: top;\n",
       "    }\n",
       "\n",
       "    .dataframe thead th {\n",
       "        text-align: right;\n",
       "    }\n",
       "</style>\n",
       "<table border=\"1\" class=\"dataframe\">\n",
       "  <thead>\n",
       "    <tr style=\"text-align: right;\">\n",
       "      <th></th>\n",
       "      <th>fare_amount</th>\n",
       "      <th>pickup_longitude</th>\n",
       "      <th>pickup_latitude</th>\n",
       "      <th>dropoff_longitude</th>\n",
       "      <th>dropoff_latitude</th>\n",
       "      <th>passenger_count</th>\n",
       "      <th>hour</th>\n",
       "      <th>day</th>\n",
       "      <th>month</th>\n",
       "      <th>year</th>\n",
       "      <th>dayofweek</th>\n",
       "      <th>dist_travel_km</th>\n",
       "    </tr>\n",
       "  </thead>\n",
       "  <tbody>\n",
       "    <tr>\n",
       "      <th>fare_amount</th>\n",
       "      <td>1.000000</td>\n",
       "      <td>0.010457</td>\n",
       "      <td>-0.008481</td>\n",
       "      <td>0.008985</td>\n",
       "      <td>-0.011014</td>\n",
       "      <td>0.010150</td>\n",
       "      <td>-0.021473</td>\n",
       "      <td>0.001374</td>\n",
       "      <td>0.023814</td>\n",
       "      <td>0.118335</td>\n",
       "      <td>0.007501</td>\n",
       "      <td>0.024685</td>\n",
       "    </tr>\n",
       "    <tr>\n",
       "      <th>pickup_longitude</th>\n",
       "      <td>0.010457</td>\n",
       "      <td>1.000000</td>\n",
       "      <td>-0.816461</td>\n",
       "      <td>0.833026</td>\n",
       "      <td>-0.846324</td>\n",
       "      <td>-0.000414</td>\n",
       "      <td>0.002433</td>\n",
       "      <td>0.005184</td>\n",
       "      <td>-0.004665</td>\n",
       "      <td>0.009966</td>\n",
       "      <td>0.000825</td>\n",
       "      <td>0.105581</td>\n",
       "    </tr>\n",
       "    <tr>\n",
       "      <th>pickup_latitude</th>\n",
       "      <td>-0.008481</td>\n",
       "      <td>-0.816461</td>\n",
       "      <td>1.000000</td>\n",
       "      <td>-0.774787</td>\n",
       "      <td>0.702367</td>\n",
       "      <td>-0.001560</td>\n",
       "      <td>-0.003822</td>\n",
       "      <td>-0.008264</td>\n",
       "      <td>0.004625</td>\n",
       "      <td>-0.010233</td>\n",
       "      <td>-0.002455</td>\n",
       "      <td>-0.062436</td>\n",
       "    </tr>\n",
       "    <tr>\n",
       "      <th>dropoff_longitude</th>\n",
       "      <td>0.008985</td>\n",
       "      <td>0.833026</td>\n",
       "      <td>-0.774787</td>\n",
       "      <td>1.000000</td>\n",
       "      <td>-0.917010</td>\n",
       "      <td>0.000034</td>\n",
       "      <td>0.003478</td>\n",
       "      <td>0.005056</td>\n",
       "      <td>-0.003606</td>\n",
       "      <td>0.008467</td>\n",
       "      <td>0.000002</td>\n",
       "      <td>0.056717</td>\n",
       "    </tr>\n",
       "    <tr>\n",
       "      <th>dropoff_latitude</th>\n",
       "      <td>-0.011014</td>\n",
       "      <td>-0.846324</td>\n",
       "      <td>0.702367</td>\n",
       "      <td>-0.917010</td>\n",
       "      <td>1.000000</td>\n",
       "      <td>-0.000659</td>\n",
       "      <td>-0.002544</td>\n",
       "      <td>-0.007835</td>\n",
       "      <td>0.003818</td>\n",
       "      <td>-0.011239</td>\n",
       "      <td>-0.002335</td>\n",
       "      <td>-0.079944</td>\n",
       "    </tr>\n",
       "    <tr>\n",
       "      <th>passenger_count</th>\n",
       "      <td>0.010150</td>\n",
       "      <td>-0.000414</td>\n",
       "      <td>-0.001560</td>\n",
       "      <td>0.000034</td>\n",
       "      <td>-0.000659</td>\n",
       "      <td>1.000000</td>\n",
       "      <td>0.013196</td>\n",
       "      <td>0.003252</td>\n",
       "      <td>0.009773</td>\n",
       "      <td>0.004798</td>\n",
       "      <td>0.033196</td>\n",
       "      <td>-0.001473</td>\n",
       "    </tr>\n",
       "    <tr>\n",
       "      <th>hour</th>\n",
       "      <td>-0.021473</td>\n",
       "      <td>0.002433</td>\n",
       "      <td>-0.003822</td>\n",
       "      <td>0.003478</td>\n",
       "      <td>-0.002544</td>\n",
       "      <td>0.013196</td>\n",
       "      <td>1.000000</td>\n",
       "      <td>0.004677</td>\n",
       "      <td>-0.003926</td>\n",
       "      <td>0.002156</td>\n",
       "      <td>-0.086947</td>\n",
       "      <td>-0.000640</td>\n",
       "    </tr>\n",
       "    <tr>\n",
       "      <th>day</th>\n",
       "      <td>0.001374</td>\n",
       "      <td>0.005184</td>\n",
       "      <td>-0.008264</td>\n",
       "      <td>0.005056</td>\n",
       "      <td>-0.007835</td>\n",
       "      <td>0.003252</td>\n",
       "      <td>0.004677</td>\n",
       "      <td>1.000000</td>\n",
       "      <td>-0.017360</td>\n",
       "      <td>-0.012170</td>\n",
       "      <td>0.005617</td>\n",
       "      <td>-0.002115</td>\n",
       "    </tr>\n",
       "    <tr>\n",
       "      <th>month</th>\n",
       "      <td>0.023814</td>\n",
       "      <td>-0.004665</td>\n",
       "      <td>0.004625</td>\n",
       "      <td>-0.003606</td>\n",
       "      <td>0.003818</td>\n",
       "      <td>0.009773</td>\n",
       "      <td>-0.003926</td>\n",
       "      <td>-0.017360</td>\n",
       "      <td>1.000000</td>\n",
       "      <td>-0.115859</td>\n",
       "      <td>-0.008786</td>\n",
       "      <td>-0.000633</td>\n",
       "    </tr>\n",
       "    <tr>\n",
       "      <th>year</th>\n",
       "      <td>0.118335</td>\n",
       "      <td>0.009966</td>\n",
       "      <td>-0.010233</td>\n",
       "      <td>0.008467</td>\n",
       "      <td>-0.011239</td>\n",
       "      <td>0.004798</td>\n",
       "      <td>0.002156</td>\n",
       "      <td>-0.012170</td>\n",
       "      <td>-0.115859</td>\n",
       "      <td>1.000000</td>\n",
       "      <td>0.006113</td>\n",
       "      <td>0.026378</td>\n",
       "    </tr>\n",
       "    <tr>\n",
       "      <th>dayofweek</th>\n",
       "      <td>0.007501</td>\n",
       "      <td>0.000825</td>\n",
       "      <td>-0.002455</td>\n",
       "      <td>0.000002</td>\n",
       "      <td>-0.002335</td>\n",
       "      <td>0.033196</td>\n",
       "      <td>-0.086947</td>\n",
       "      <td>0.005617</td>\n",
       "      <td>-0.008786</td>\n",
       "      <td>0.006113</td>\n",
       "      <td>1.000000</td>\n",
       "      <td>-0.004541</td>\n",
       "    </tr>\n",
       "    <tr>\n",
       "      <th>dist_travel_km</th>\n",
       "      <td>0.024685</td>\n",
       "      <td>0.105581</td>\n",
       "      <td>-0.062436</td>\n",
       "      <td>0.056717</td>\n",
       "      <td>-0.079944</td>\n",
       "      <td>-0.001473</td>\n",
       "      <td>-0.000640</td>\n",
       "      <td>-0.002115</td>\n",
       "      <td>-0.000633</td>\n",
       "      <td>0.026378</td>\n",
       "      <td>-0.004541</td>\n",
       "      <td>1.000000</td>\n",
       "    </tr>\n",
       "  </tbody>\n",
       "</table>\n",
       "</div>"
      ],
      "text/plain": [
       "                   fare_amount  pickup_longitude  pickup_latitude  \\\n",
       "fare_amount           1.000000          0.010457        -0.008481   \n",
       "pickup_longitude      0.010457          1.000000        -0.816461   \n",
       "pickup_latitude      -0.008481         -0.816461         1.000000   \n",
       "dropoff_longitude     0.008985          0.833026        -0.774787   \n",
       "dropoff_latitude     -0.011014         -0.846324         0.702367   \n",
       "passenger_count       0.010150         -0.000414        -0.001560   \n",
       "hour                 -0.021473          0.002433        -0.003822   \n",
       "day                   0.001374          0.005184        -0.008264   \n",
       "month                 0.023814         -0.004665         0.004625   \n",
       "year                  0.118335          0.009966        -0.010233   \n",
       "dayofweek             0.007501          0.000825        -0.002455   \n",
       "dist_travel_km        0.024685          0.105581        -0.062436   \n",
       "\n",
       "                   dropoff_longitude  dropoff_latitude  passenger_count  \\\n",
       "fare_amount                 0.008985         -0.011014         0.010150   \n",
       "pickup_longitude            0.833026         -0.846324        -0.000414   \n",
       "pickup_latitude            -0.774787          0.702367        -0.001560   \n",
       "dropoff_longitude           1.000000         -0.917010         0.000034   \n",
       "dropoff_latitude           -0.917010          1.000000        -0.000659   \n",
       "passenger_count             0.000034         -0.000659         1.000000   \n",
       "hour                        0.003478         -0.002544         0.013196   \n",
       "day                         0.005056         -0.007835         0.003252   \n",
       "month                      -0.003606          0.003818         0.009773   \n",
       "year                        0.008467         -0.011239         0.004798   \n",
       "dayofweek                   0.000002         -0.002335         0.033196   \n",
       "dist_travel_km              0.056717         -0.079944        -0.001473   \n",
       "\n",
       "                       hour       day     month      year  dayofweek  \\\n",
       "fare_amount       -0.021473  0.001374  0.023814  0.118335   0.007501   \n",
       "pickup_longitude   0.002433  0.005184 -0.004665  0.009966   0.000825   \n",
       "pickup_latitude   -0.003822 -0.008264  0.004625 -0.010233  -0.002455   \n",
       "dropoff_longitude  0.003478  0.005056 -0.003606  0.008467   0.000002   \n",
       "dropoff_latitude  -0.002544 -0.007835  0.003818 -0.011239  -0.002335   \n",
       "passenger_count    0.013196  0.003252  0.009773  0.004798   0.033196   \n",
       "hour               1.000000  0.004677 -0.003926  0.002156  -0.086947   \n",
       "day                0.004677  1.000000 -0.017360 -0.012170   0.005617   \n",
       "month             -0.003926 -0.017360  1.000000 -0.115859  -0.008786   \n",
       "year               0.002156 -0.012170 -0.115859  1.000000   0.006113   \n",
       "dayofweek         -0.086947  0.005617 -0.008786  0.006113   1.000000   \n",
       "dist_travel_km    -0.000640 -0.002115 -0.000633  0.026378  -0.004541   \n",
       "\n",
       "                   dist_travel_km  \n",
       "fare_amount              0.024685  \n",
       "pickup_longitude         0.105581  \n",
       "pickup_latitude         -0.062436  \n",
       "dropoff_longitude        0.056717  \n",
       "dropoff_latitude        -0.079944  \n",
       "passenger_count         -0.001473  \n",
       "hour                    -0.000640  \n",
       "day                     -0.002115  \n",
       "month                   -0.000633  \n",
       "year                     0.026378  \n",
       "dayofweek               -0.004541  \n",
       "dist_travel_km           1.000000  "
      ]
     },
     "execution_count": 20,
     "metadata": {},
     "output_type": "execute_result"
    }
   ],
   "source": [
    "# generate the correlation of the numeric variables\n",
    "corr = df.corr() \n",
    "corr"
   ]
  },
  {
   "cell_type": "markdown",
   "id": "09b2d21e",
   "metadata": {
    "papermill": {
     "duration": 0.01927,
     "end_time": "2023-05-20T16:54:46.932265",
     "exception": false,
     "start_time": "2023-05-20T16:54:46.912995",
     "status": "completed"
    },
    "tags": []
   },
   "source": [
    "## Correlation Heatmap\n",
    "The diagonal entries are all '1' which represents the correlation of the variable with itself. The dark green squares represent the variables with strong positive correlation. The dark red squares represent the variables with strong negative correlation."
   ]
  },
  {
   "cell_type": "code",
   "execution_count": 21,
   "id": "3bc1b56c",
   "metadata": {
    "execution": {
     "iopub.execute_input": "2023-05-20T16:54:46.973498Z",
     "iopub.status.busy": "2023-05-20T16:54:46.972589Z",
     "iopub.status.idle": "2023-05-20T16:54:48.485251Z",
     "shell.execute_reply": "2023-05-20T16:54:48.484165Z"
    },
    "papermill": {
     "duration": 1.536059,
     "end_time": "2023-05-20T16:54:48.487911",
     "exception": false,
     "start_time": "2023-05-20T16:54:46.951852",
     "status": "completed"
    },
    "tags": []
   },
   "outputs": [],
   "source": [
    "import seaborn as sns"
   ]
  },
  {
   "cell_type": "code",
   "execution_count": 22,
   "id": "f649bbea",
   "metadata": {
    "execution": {
     "iopub.execute_input": "2023-05-20T16:54:48.529372Z",
     "iopub.status.busy": "2023-05-20T16:54:48.528940Z",
     "iopub.status.idle": "2023-05-20T16:54:49.572580Z",
     "shell.execute_reply": "2023-05-20T16:54:49.571384Z"
    },
    "papermill": {
     "duration": 1.067698,
     "end_time": "2023-05-20T16:54:49.575395",
     "exception": false,
     "start_time": "2023-05-20T16:54:48.507697",
     "status": "completed"
    },
    "tags": []
   },
   "outputs": [
    {
     "data": {
      "text/plain": [
       "<AxesSubplot:title={'center':'Correlation Heatmap'}>"
      ]
     },
     "execution_count": 22,
     "metadata": {},
     "output_type": "execute_result"
    },
    {
     "data": {
      "image/png": "[encoded data removed]",
      "text/plain": [
       "<Figure size 720x432 with 2 Axes>"
      ]
     },
     "metadata": {
      "needs_background": "light"
     },
     "output_type": "display_data"
    }
   ],
   "source": [
    "fig,axis = plt.subplots(figsize = (10,6))\n",
    "plt.title('Correlation Heatmap')\n",
    "sns.heatmap(df.corr(), cmap ='RdYlGn',annot = True) "
   ]
  },
  {
   "cell_type": "code",
   "execution_count": 23,
   "id": "2b492bc5",
   "metadata": {
    "execution": {
     "iopub.execute_input": "2023-05-20T16:54:49.622727Z",
     "iopub.status.busy": "2023-05-20T16:54:49.622141Z",
     "iopub.status.idle": "2023-05-20T16:54:49.674497Z",
     "shell.execute_reply": "2023-05-20T16:54:49.673642Z"
    },
    "papermill": {
     "duration": 0.078925,
     "end_time": "2023-05-20T16:54:49.676714",
     "exception": false,
     "start_time": "2023-05-20T16:54:49.597789",
     "status": "completed"
    },
    "tags": []
   },
   "outputs": [
    {
     "name": "stdout",
     "output_type": "stream",
     "text": [
      "Summary statistics:\n",
      "         fare_amount  passenger_count  dist_travel_km\n",
      "count  200000.000000    200000.000000   200000.000000\n",
      "mean       11.359955         1.684535       20.855722\n",
      "std         9.901776         1.385997      382.963721\n",
      "min       -52.000000         0.000000        0.000000\n",
      "25%         6.000000         1.000000        1.215222\n",
      "50%         8.500000         1.000000        2.121005\n",
      "75%        12.500000         2.000000        3.875248\n",
      "max       499.000000       208.000000    16409.239135\n"
     ]
    }
   ],
   "source": [
    "# Descriptive Statistics\n",
    "numeric_cols = ['fare_amount', 'passenger_count', 'dist_travel_km']\n",
    "print(\"Summary statistics:\")\n",
    "print(df[numeric_cols].describe())"
   ]
  },
  {
   "cell_type": "markdown",
   "id": "3b31401b",
   "metadata": {
    "papermill": {
     "duration": 0.021689,
     "end_time": "2023-05-20T16:54:49.721145",
     "exception": false,
     "start_time": "2023-05-20T16:54:49.699456",
     "status": "completed"
    },
    "tags": []
   },
   "source": [
    "# **Distribution of Rides by Hour**\n",
    "This plot visually represents the distribution of rides based on the hour of the day. And the plot enabling data-driven decision-making and potential optimizations in ride-sharing or transportation services."
   ]
  },
  {
   "cell_type": "code",
   "execution_count": 24,
   "id": "48967b0d",
   "metadata": {
    "execution": {
     "iopub.execute_input": "2023-05-20T16:54:49.767549Z",
     "iopub.status.busy": "2023-05-20T16:54:49.766428Z",
     "iopub.status.idle": "2023-05-20T16:54:50.199296Z",
     "shell.execute_reply": "2023-05-20T16:54:50.197934Z"
    },
    "papermill": {
     "duration": 0.458833,
     "end_time": "2023-05-20T16:54:50.202035",
     "exception": false,
     "start_time": "2023-05-20T16:54:49.743202",
     "status": "completed"
    },
    "tags": []
   },
   "outputs": [
    {
     "data": {
      "image/png": "[encoded data removed]",
      "text/plain": [
       "<Figure size 864x432 with 1 Axes>"
      ]
     },
     "metadata": {
      "needs_background": "light"
     },
     "output_type": "display_data"
    }
   ],
   "source": [
    "# Data Visualization\n",
    "plt.figure(figsize=(12, 6))\n",
    "sns.countplot(x='hour', data=df)\n",
    "plt.title('Distribution of Rides by Hour')\n",
    "plt.xlabel('Hour')\n",
    "plt.ylabel('Count')\n",
    "plt.show()"
   ]
  },
  {
   "cell_type": "markdown",
   "id": "f825088f",
   "metadata": {
    "papermill": {
     "duration": 0.023049,
     "end_time": "2023-05-20T16:54:50.248437",
     "exception": false,
     "start_time": "2023-05-20T16:54:50.225388",
     "status": "completed"
    },
    "tags": []
   },
   "source": [
    "# **Pickup Location**"
   ]
  },
  {
   "cell_type": "code",
   "execution_count": 25,
   "id": "0044f492",
   "metadata": {
    "execution": {
     "iopub.execute_input": "2023-05-20T16:54:50.296922Z",
     "iopub.status.busy": "2023-05-20T16:54:50.296462Z",
     "iopub.status.idle": "2023-05-20T16:54:51.120347Z",
     "shell.execute_reply": "2023-05-20T16:54:51.119292Z"
    },
    "papermill": {
     "duration": 0.854365,
     "end_time": "2023-05-20T16:54:51.126254",
     "exception": false,
     "start_time": "2023-05-20T16:54:50.271889",
     "status": "completed"
    },
    "tags": []
   },
   "outputs": [
    {
     "data": {
      "image/png": "[encoded data removed]",
      "text/plain": [
       "<Figure size 864x432 with 1 Axes>"
      ]
     },
     "metadata": {
      "needs_background": "light"
     },
     "output_type": "display_data"
    }
   ],
   "source": [
    "plt.figure(figsize=(12, 6))\n",
    "sns.scatterplot(x='pickup_longitude', y='pickup_latitude', data=df)\n",
    "plt.title('Pickup Location')\n",
    "plt.xlabel('Longitude')\n",
    "plt.ylabel('Latitude')\n",
    "plt.show()"
   ]
  },
  {
   "cell_type": "markdown",
   "id": "4fc69836",
   "metadata": {
    "papermill": {
     "duration": 0.027434,
     "end_time": "2023-05-20T16:54:51.181295",
     "exception": false,
     "start_time": "2023-05-20T16:54:51.153861",
     "status": "completed"
    },
    "tags": []
   },
   "source": [
    "# **Distribution of Rides**\n",
    "These plot visually represents the distribution of rides based on the hour, month, year and dayofweek. And these plot enabling data-driven decision-making and potential optimizations in ride-sharing or transportation services."
   ]
  },
  {
   "cell_type": "code",
   "execution_count": 26,
   "id": "2ee49d16",
   "metadata": {
    "execution": {
     "iopub.execute_input": "2023-05-20T16:54:51.239663Z",
     "iopub.status.busy": "2023-05-20T16:54:51.238967Z",
     "iopub.status.idle": "2023-05-20T16:54:52.364479Z",
     "shell.execute_reply": "2023-05-20T16:54:52.363364Z"
    },
    "papermill": {
     "duration": 1.157962,
     "end_time": "2023-05-20T16:54:52.367203",
     "exception": false,
     "start_time": "2023-05-20T16:54:51.209241",
     "status": "completed"
    },
    "tags": []
   },
   "outputs": [
    {
     "data": {
      "image/png": "[encoded data removed]",
      "text/plain": [
       "<Figure size 1152x432 with 4 Axes>"
      ]
     },
     "metadata": {
      "needs_background": "light"
     },
     "output_type": "display_data"
    }
   ],
   "source": [
    "# Categorical Variable Analysis\n",
    "categorical_cols = ['hour', 'month', 'year', 'dayofweek']\n",
    "plt.figure(figsize=(16, 6))\n",
    "for i, col in enumerate(categorical_cols):\n",
    "    plt.subplot(2, 2, i+1)\n",
    "    sns.countplot(x=col, data=df)\n",
    "    plt.title('Count of {}'.format(col))\n",
    "plt.tight_layout()\n",
    "plt.show()"
   ]
  },
  {
   "cell_type": "markdown",
   "id": "a997bf14",
   "metadata": {
    "papermill": {
     "duration": 0.028441,
     "end_time": "2023-05-20T16:54:52.424137",
     "exception": false,
     "start_time": "2023-05-20T16:54:52.395696",
     "status": "completed"
    },
    "tags": []
   },
   "source": [
    "# **Average Fare Amount**"
   ]
  },
  {
   "cell_type": "code",
   "execution_count": 27,
   "id": "9dfe3537",
   "metadata": {
    "execution": {
     "iopub.execute_input": "2023-05-20T16:54:52.483670Z",
     "iopub.status.busy": "2023-05-20T16:54:52.482871Z",
     "iopub.status.idle": "2023-05-20T16:54:52.799606Z",
     "shell.execute_reply": "2023-05-20T16:54:52.798481Z"
    },
    "papermill": {
     "duration": 0.349995,
     "end_time": "2023-05-20T16:54:52.802579",
     "exception": false,
     "start_time": "2023-05-20T16:54:52.452584",
     "status": "completed"
    },
    "tags": []
   },
   "outputs": [
    {
     "data": {
      "image/png": "[encoded data removed]",
      "text/plain": [
       "<Figure size 864x432 with 1 Axes>"
      ]
     },
     "metadata": {
      "needs_background": "light"
     },
     "output_type": "display_data"
    }
   ],
   "source": [
    "# Group by 'day' and calculate the mean fare amount\n",
    "daily_average = df.groupby('day')['fare_amount'].mean()\n",
    "\n",
    "# Plot the average fare amount by day\n",
    "plt.figure(figsize=(12, 6))\n",
    "daily_average.plot()\n",
    "plt.title('Average Fare Amount by Day')\n",
    "plt.xlabel('Date')\n",
    "plt.ylabel('Average Fare Amount')\n",
    "plt.show()"
   ]
  },
  {
   "cell_type": "code",
   "execution_count": 28,
   "id": "baafc693",
   "metadata": {
    "execution": {
     "iopub.execute_input": "2023-05-20T16:54:52.866667Z",
     "iopub.status.busy": "2023-05-20T16:54:52.865840Z",
     "iopub.status.idle": "2023-05-20T16:54:53.313805Z",
     "shell.execute_reply": "2023-05-20T16:54:53.312616Z"
    },
    "papermill": {
     "duration": 0.483017,
     "end_time": "2023-05-20T16:54:53.316398",
     "exception": false,
     "start_time": "2023-05-20T16:54:52.833381",
     "status": "completed"
    },
    "tags": []
   },
   "outputs": [
    {
     "data": {
      "image/png": "[encoded data removed]",
      "text/plain": [
       "<Figure size 864x432 with 1 Axes>"
      ]
     },
     "metadata": {
      "needs_background": "light"
     },
     "output_type": "display_data"
    }
   ],
   "source": [
    "# Group by 'day' and calculate the mean fare amount\n",
    "daily_average = df.groupby('hour')['fare_amount'].mean()\n",
    "\n",
    "# Plot the average fare amount by day\n",
    "plt.figure(figsize=(12, 6))\n",
    "daily_average.plot()\n",
    "plt.title('Average Fare Amount by Hour')\n",
    "plt.xlabel('Hour')\n",
    "plt.ylabel('Average Fare Amount')\n",
    "plt.show()"
   ]
  },
  {
   "cell_type": "markdown",
   "id": "de46a4a3",
   "metadata": {
    "papermill": {
     "duration": 0.031998,
     "end_time": "2023-05-20T16:54:53.379897",
     "exception": false,
     "start_time": "2023-05-20T16:54:53.347899",
     "status": "completed"
    },
    "tags": []
   },
   "source": [
    "## Rides and Average Fare Amount by Hour"
   ]
  },
  {
   "cell_type": "code",
   "execution_count": 29,
   "id": "998712b2",
   "metadata": {
    "execution": {
     "iopub.execute_input": "2023-05-20T16:54:53.446260Z",
     "iopub.status.busy": "2023-05-20T16:54:53.445806Z",
     "iopub.status.idle": "2023-05-20T16:54:54.060368Z",
     "shell.execute_reply": "2023-05-20T16:54:54.059458Z"
    },
    "papermill": {
     "duration": 0.651377,
     "end_time": "2023-05-20T16:54:54.062938",
     "exception": false,
     "start_time": "2023-05-20T16:54:53.411561",
     "status": "completed"
    },
    "tags": []
   },
   "outputs": [
    {
     "data": {
      "image/png": "[encoded data removed]",
      "text/plain": [
       "<Figure size 864x432 with 2 Axes>"
      ]
     },
     "metadata": {
      "needs_background": "light"
     },
     "output_type": "display_data"
    }
   ],
   "source": [
    "import seaborn as sns\n",
    "import matplotlib.pyplot as plt\n",
    "\n",
    "# Group by 'hour' and calculate the count of rides and the average fare amount\n",
    "rides_by_hour = df.groupby('hour').size()\n",
    "average_fare_by_hour = df.groupby('hour')['fare_amount'].mean()\n",
    "\n",
    "# Create a figure and axes\n",
    "fig, ax1 = plt.subplots(figsize=(12, 6))\n",
    "\n",
    "# Plot rides by hour (bar plot)\n",
    "sns.barplot(x=rides_by_hour.index, y=rides_by_hour, ax=ax1, color='skyblue')\n",
    "ax1.set_ylabel('Rides Count', color='skyblue')\n",
    "ax1.set_xlabel('Hour')\n",
    "ax1.set_title('Rides and Average Fare Amount by Hour')\n",
    "\n",
    "# Create a twin y-axis for average fare amount (line plot)\n",
    "ax2 = ax1.twinx()\n",
    "sns.lineplot(x=average_fare_by_hour.index, y=average_fare_by_hour, ax=ax2, color='orange')\n",
    "ax2.set_ylabel('Average Fare Amount', color='orange')\n",
    "\n",
    "# Display the plot\n",
    "plt.show()"
   ]
  },
  {
   "cell_type": "code",
   "execution_count": 30,
   "id": "c3fb3822",
   "metadata": {},
   "outputs": [],
   "source": [
    "from sklearn.model_selection import train_test_split\n",
    "from sklearn.linear_model import LinearRegression\n",
    "from sklearn.metrics import mean_absolute_error, mean_squared_error, r2_score\n"
   ]
  },
  {
   "cell_type": "code",
   "execution_count": 31,
   "id": "61213a87",
   "metadata": {},
   "outputs": [],
   "source": [
    "# Split the data into features (X) and target variable (y)\n",
    "X = df.drop(['fare_amount'], axis=1)\n",
    "y = df['fare_amount']\n",
    "\n",
    "# Split the data into train and test sets\n",
    "X_train, X_test, y_train, y_test = train_test_split(X, y, test_size=0.2, random_state=42)\n"
   ]
  },
  {
   "cell_type": "code",
   "execution_count": 32,
   "id": "dd1ddd18",
   "metadata": {},
   "outputs": [
    {
     "data": {
      "text/plain": [
       "LinearRegression()"
      ]
     },
     "execution_count": 32,
     "metadata": {},
     "output_type": "execute_result"
    }
   ],
   "source": [
    "# Create a Linear Regression model\n",
    "model = LinearRegression()\n",
    "\n",
    "# Train the model\n",
    "model.fit(X_train, y_train)\n"
   ]
  },
  {
   "cell_type": "code",
   "execution_count": 33,
   "id": "d7afbbf0",
   "metadata": {},
   "outputs": [
    {
     "name": "stdout",
     "output_type": "stream",
     "text": [
      "Mean Absolute Error: 6.021801304562478\n",
      "Root Mean Squared Error: 10.22488233821524\n",
      "R-squared: 0.016674004747878612\n"
     ]
    }
   ],
   "source": [
    "# Make predictions on the test set\n",
    "y_pred = model.predict(X_test)\n",
    "\n",
    "# Calculate evaluation metrics\n",
    "mae = mean_absolute_error(y_test, y_pred)\n",
    "rmse = mean_squared_error(y_test, y_pred, squared=False)\n",
    "r2 = r2_score(y_test, y_pred)\n",
    "\n",
    "# Print evaluation metrics\n",
    "print(\"Mean Absolute Error:\", mae)\n",
    "print(\"Root Mean Squared Error:\", rmse)\n",
    "print(\"R-squared:\", r2)\n"
   ]
  },
  {
   "cell_type": "code",
   "execution_count": 34,
   "id": "5223cd77",
   "metadata": {},
   "outputs": [],
   "source": [
    "from sklearn.ensemble import RandomForestRegressor"
   ]
  },
  {
   "cell_type": "code",
   "execution_count": 35,
   "id": "832fd09c",
   "metadata": {},
   "outputs": [
    {
     "name": "stdout",
     "output_type": "stream",
     "text": [
      "Mean Absolute Error: 2.03\n",
      "Root Mean Squared Error: 5.34\n",
      "R-squared: 0.73\n"
     ]
    }
   ],
   "source": [
    "rf_model = RandomForestRegressor(n_estimators=100, random_state=42)\n",
    "\n",
    "# Train the model on the training data\n",
    "rf_model.fit(X_train, y_train)\n",
    "\n",
    "# Make predictions on the test data\n",
    "y_pred = rf_model.predict(X_test)\n",
    "\n",
    "# Calculate evaluation metrics\n",
    "mae = mean_absolute_error(y_test, y_pred)\n",
    "rmse = mean_squared_error(y_test, y_pred, squared=False)\n",
    "r2 = r2_score(y_test, y_pred)\n",
    "\n",
    "# Print evaluation metrics\n",
    "print(f\"Mean Absolute Error: {mae:.2f}\")\n",
    "print(f\"Root Mean Squared Error: {rmse:.2f}\")\n",
    "print(f\"R-squared: {r2:.2f}\")"
   ]
  }
 ],
 "metadata": {
  "kernelspec": {
   "display_name": "Python 3",
   "language": "python",
   "name": "python3"
  },
  "language_info": {
   "codemirror_mode": {
    "name": "ipython",
    "version": 3
   },
   "file_extension": ".py",
   "mimetype": "text/x-python",
   "name": "python",
   "nbconvert_exporter": "python",
   "pygments_lexer": "ipython3",
   "version": "3.8.8"
  },
  "papermill": {
   "default_parameters": {},
   "duration": 67.507544,
   "end_time": "2023-05-20T16:55:02.677783",
   "environment_variables": {},
   "exception": null,
   "input_path": "__notebook__.ipynb",
   "output_path": "__notebook__.ipynb",
   "parameters": {},
   "start_time": "2023-05-20T16:53:55.170239",
   "version": "2.4.0"
  }
 },
 "nbformat": 4,
 "nbformat_minor": 5
}
